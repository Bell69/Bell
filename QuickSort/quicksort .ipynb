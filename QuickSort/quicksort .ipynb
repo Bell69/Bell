{
 "cells": [
  {
   "cell_type": "code",
   "execution_count": 8,
   "metadata": {},
   "outputs": [
    {
     "data": {
      "text/plain": [
       "[2, 9, 14, 27, 33, 40]"
      ]
     },
     "execution_count": 8,
     "metadata": {},
     "output_type": "execute_result"
    }
   ],
   "source": [
    "list1 = [9, 40, 2, 33, 14, 27]\n",
    "\n",
    "def quick_sort(list):\n",
    "    smaller =[]\n",
    "    bigger=[]\n",
    "    keylist=[]\n",
    "    \n",
    "    if len(list) <=1:\n",
    "        return list\n",
    "    else:\n",
    "        key = list[0] #將第一個數設為key值\n",
    "        for i in list:\n",
    "            if i < key: #小於key值的數\n",
    "                smaller.append(i)\n",
    "            elif i > key: #大於key值的數\n",
    "                bigger.append(i)\n",
    "            else: \n",
    "                keylist.append(i)\n",
    "    \n",
    "    smaller = quick_sort(smaller)\n",
    "    bigger = quick_sort(bigger)\n",
    "    return smaller + keylist + bigger\n",
    "\n",
    "quick_sort(list1)"
   ]
  },
  {
   "cell_type": "code",
   "execution_count": null,
   "metadata": {},
   "outputs": [],
   "source": []
  }
 ],
 "metadata": {
  "kernelspec": {
   "display_name": "Python 3",
   "language": "python",
   "name": "python3"
  },
  "language_info": {
   "codemirror_mode": {
    "name": "ipython",
    "version": 3
   },
   "file_extension": ".py",
   "mimetype": "text/x-python",
   "name": "python",
   "nbconvert_exporter": "python",
   "pygments_lexer": "ipython3",
   "version": "3.7.3"
  }
 },
 "nbformat": 4,
 "nbformat_minor": 2
}

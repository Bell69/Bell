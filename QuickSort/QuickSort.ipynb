{
 "cells": [
  {
   "cell_type": "code",
   "execution_count": 4,
   "metadata": {},
   "outputs": [
    {
     "name": "stdout",
     "output_type": "stream",
     "text": [
      "2\n",
      "40\n",
      "33\n",
      "9\n",
      "14\n"
     ]
    },
    {
     "data": {
      "text/plain": [
       "[2, 9, 14, 27, 33, 40]"
      ]
     },
     "execution_count": 4,
     "metadata": {},
     "output_type": "execute_result"
    }
   ],
   "source": [
    "list1 = [9, 40, 2, 33, 14, 27]\n",
    "\n",
    "def quicksort(list):\n",
    "    if len(list)<=1: #當list只有一個或沒有元素直接返回該list，否則會出現list out of range錯誤\n",
    "        return list\n",
    "    \n",
    "    pivot = list[len(list)//2-1] #設立基準點\n",
    "    print(pivot)\n",
    "    \n",
    "    left = []\n",
    "    pivot_list = []\n",
    "    right = []\n",
    "    \n",
    "    for num in list: #比大小\n",
    "        if num > pivot:\n",
    "            right.append(num)\n",
    "        elif num == pivot:\n",
    "            pivot_list.append(num)\n",
    "        else:\n",
    "            left.append(num)\n",
    "\n",
    "    return quicksort(left) + pivot_list + quicksort(right)\n",
    "\n",
    "quicksort(list1)"
   ]
  },
  {
   "cell_type": "code",
   "execution_count": null,
   "metadata": {},
   "outputs": [],
   "source": []
  }
 ],
 "metadata": {
  "kernelspec": {
   "display_name": "Python 3",
   "language": "python",
   "name": "python3"
  },
  "language_info": {
   "codemirror_mode": {
    "name": "ipython",
    "version": 3
   },
   "file_extension": ".py",
   "mimetype": "text/x-python",
   "name": "python",
   "nbconvert_exporter": "python",
   "pygments_lexer": "ipython3",
   "version": "3.7.3"
  }
 },
 "nbformat": 4,
 "nbformat_minor": 2
}
